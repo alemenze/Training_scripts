{
 "cells": [
  {
   "cell_type": "markdown",
   "metadata": {},
   "source": [
    "# Plotting challenge assignment\n",
    "This will be a challenge assignment for plotting several different facets of RNA-seq data. \n",
    "The outline here will still have some of the framework for successfully generating your output plots, but will have several fatal flaws. \n",
    "Hint- one flaw will be the install of various modules/libraries and using R within Jupyter.\n",
    "- Plotly in Jupyter, and making it render. Plotly install guides will help. \n",
    "- R in Jupyter (rpy2, IRKernel)\n",
    "- Anaconda will help make this easier as well\n",
    "\n",
    "You also will have to utilize your data wrangling skills to parse the appropriate files together as input files. "
   ]
  },
  {
   "cell_type": "markdown",
   "metadata": {},
   "source": [
    "## Volcano plot\n",
    "Volcano plots are a staple for RNA-seq workflows. They show the spread of differentially expressed genes in terms of fold change (or log fold change) as well as the p-value. \n",
    "\n",
    "Use R within Jupyter to plot out the log2FoldChange vs pvalue for all genes in the comparisons. There should be one volcano plot per sample that is compared to normals. "
   ]
  },
  {
   "cell_type": "code",
   "execution_count": null,
   "metadata": {},
   "outputs": [],
   "source": [
    "import rpy2.robjects as robjects\n",
    "\n",
    "%load_ext rpy2.ipython"
   ]
  },
  {
   "cell_type": "code",
   "execution_count": null,
   "metadata": {},
   "outputs": [],
   "source": [
    "%%R\n",
    "res <- read.csv(\"data.csv\", header=TRUE, row.names=1)#Youll need to add in some data for this to work!\n",
    "\n",
    "# Make a basic volcano plot\n",
    "with(res, plot(log2FoldChange, -log10(pvalue), pch=20, \n",
    "               main=\"Example Volcano\", \n",
    "               xlim=c(-10,10), \n",
    "               ylim=c(0,100),cex=0.5))#change xlim or ylim to frame it out. cex is dot size  \n",
    "\n",
    "# Add colored points: red if padj<0.05, orange of log2FC>1, green if both)\n",
    "with(subset(res, padj<.05 ), points(log2FoldChange, -log10(pvalue), pch=20, col=\"red\",cex=0.5))\n",
    "with(subset(res, abs(log2FoldChange)>1), points(log2FoldChange, -log10(pvalue), pch=20, col=\"orange\",cex=0.5))\n",
    "with(subset(res, padj<.05 & abs(log2FoldChange)>1), points(log2FoldChange, -log10(pvalue), pch=20, col=\"green\",cex=0.5))"
   ]
  },
  {
   "cell_type": "markdown",
   "metadata": {},
   "source": [
    "## Heatmaps\n",
    "Heatmaps are another essential facet to RNA-seq analysis. This allows you to look at either the raw hit count data in comparisons or again at the log fold change. This also can enable you to focus in on specific genes for local comparisons. "
   ]
  },
  {
   "cell_type": "markdown",
   "metadata": {},
   "source": [
    "### Heatmap based on hit-counts\n",
    "For the first heatmap, use R within Jupyter again. Do a global heatmap showing all of the genes based on hitcounts. \n",
    "The best way would be to use the heatmap.2"
   ]
  },
  {
   "cell_type": "code",
   "execution_count": null,
   "metadata": {},
   "outputs": [],
   "source": [
    "%%R\n",
    "library(pheatmap);library(gplots);library(readr);library(ggplot2)\n",
    "data <- read.csv('data.csv', header=T, row.names=1)#make sure this data is just Gene in the first column followed by the columns of hitcounts\n",
    "heatmap.2(as.matrix(data), \n",
    "          scale=c('row'), \n",
    "          trace='none', \n",
    "          col='bluered',\n",
    "          Colv=FALSE,\n",
    "          Rowv=FALSE,\n",
    "          cexRow=.75)"
   ]
  },
  {
   "cell_type": "markdown",
   "metadata": {},
   "source": [
    "### Heatmap based on log2FoldChange and filtered\n",
    "Now to mix it up again- lets do this only in Python. But not just any python- lets make this an interactive plot using the Plotly module. This will take some special steps to install and have work functionally. \n",
    "\n",
    "For this one, since I am providing a full function for plotting, please annotate each step as to what it does using a comment after each blank comment line in the markdown space provided after. I've provided number one as an example."
   ]
  },
  {
   "cell_type": "code",
   "execution_count": null,
   "metadata": {},
   "outputs": [],
   "source": [
    "import csv\n",
    "import plotly.graph_objects as go"
   ]
  },
  {
   "cell_type": "code",
   "execution_count": null,
   "metadata": {},
   "outputs": [],
   "source": [
    "def heatmapper(csvlist, genelist):\n",
    "    names=[]\n",
    "    for sheet in csvlist:\n",
    "        name=str(sheet).split('ID')[1].rstrip('.csv') #1\n",
    "        names.append(name) \n",
    "    #List of gene log2fc values in order of x list per gene, in gene list order     \n",
    "    bigz=[]\n",
    "\n",
    "    #List of genes\n",
    "    bigy=[]\n",
    "\n",
    "    #Get the information from each sheet and parse it up\n",
    "    for gene in genelist:\n",
    "        lilz=[]\n",
    "        for sheet in csvlist:\n",
    "            with open(sheet) as chart:\n",
    "                reader=csv.DictReader(chart, delimiter=',') #2\n",
    "                for row in reader:\n",
    "                    if row['GeneID'].strip(\"[]'\")==gene:\n",
    "                        lilz.append(row['log2FoldChange'])\n",
    "            chart.close()\n",
    "        if len(lilz)>(len(csvlist)-1): #3\n",
    "            bigz.append(lilz) #4\n",
    "            bigy.append(str(gene)) #5\n",
    "        else:\n",
    "            genelist.remove(gene)\n",
    "            print(str(gene)+' had an error and was removed')\n",
    "        \n",
    "    fig=go.FigureWidget(\n",
    "        data=[\n",
    "            dict(\n",
    "            type='heatmap',\n",
    "            z=bigz, #6\n",
    "            x=names, #7\n",
    "            y=bigy, #8\n",
    "            colorscale='bluered',\n",
    "            zmid=0, #9\n",
    "            colorbar=dict(\n",
    "                title='Log2FC',\n",
    "                titleside='top',\n",
    "                ),\n",
    "            )\n",
    "        ]\n",
    "    )\n",
    "    fig.update_layout(\n",
    "        title='Log2FC heatmap',\n",
    "        xaxis_title='Samples',\n",
    "        yaxis_title='Genes',\n",
    "        )\n",
    "\n",
    "    return fig #10"
   ]
  },
  {
   "cell_type": "code",
   "execution_count": null,
   "metadata": {},
   "outputs": [],
   "source": [
    "#How about you make a quick function to generate the python list \"genelist\" as a input for the heatmap. \n",
    "#Pull the top 5 significant genes per sample. \n",
    "#This can be done manually if you get stuck. "
   ]
  },
  {
   "cell_type": "code",
   "execution_count": null,
   "metadata": {},
   "outputs": [],
   "source": [
    "heatmap=heatmapper(['data1.csv','data2.csv','data3.csv'],genelist)\n",
    "#Need to then call the heatmap to make it appear- FYI"
   ]
  },
  {
   "cell_type": "markdown",
   "metadata": {},
   "source": [
    "#### Markdown output for the individual comments\n",
    "#1 : Since each input csv file has the naming convention \"diff-exprID{sample_name}.csv\" from my pipeline, I split the string of the input csv file by the ID string, then capture just the part after ID and remove the .csv. This captures just the sample name to parse into a list for later labeling on the heatmap itself. \n",
    "#2\n",
    "#3\n",
    "#4\n",
    "#5\n",
    "#6\n",
    "#7\n",
    "#8\n",
    "#9\n",
    "#10"
   ]
  },
  {
   "cell_type": "markdown",
   "metadata": {},
   "source": [
    "## Venn Diagram with matplotlib\n",
    "Venn diagrams are also a very useful tool for comparing different samples and visualing what is unique or common between them. \n",
    "If you have already completed the common/unique notebook, this should be much easier to do, and so it doesnt have as much guidance as the others. \n",
    "\n",
    "And to mix it up were using a 4th method- Python using matplotlib. "
   ]
  },
  {
   "cell_type": "code",
   "execution_count": null,
   "metadata": {},
   "outputs": [],
   "source": [
    "import matplotlib.pyplot as plt\n",
    "from matplotlib_venn import venn3"
   ]
  },
  {
   "cell_type": "markdown",
   "metadata": {},
   "source": [
    "# Assignment\n",
    "Generate each of these figures inline and produce this document as a both HTML and PDF. \n",
    "Overall this assignment will test several facets we have been reviewing so far. "
   ]
  }
 ],
 "metadata": {
  "kernelspec": {
   "display_name": "Python 3",
   "language": "python",
   "name": "python3"
  },
  "language_info": {
   "codemirror_mode": {
    "name": "ipython",
    "version": 3
   },
   "file_extension": ".py",
   "mimetype": "text/x-python",
   "name": "python",
   "nbconvert_exporter": "python",
   "pygments_lexer": "ipython3",
   "version": "3.7.4"
  }
 },
 "nbformat": 4,
 "nbformat_minor": 4
}
