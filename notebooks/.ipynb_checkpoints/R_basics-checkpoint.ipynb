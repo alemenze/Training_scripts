{
 "cells": [
  {
   "cell_type": "markdown",
   "metadata": {},
   "source": [
    "# R Basics\n",
    "R is a strong language primarily used for statistics and plotting. \n",
    "\n",
    "This tutorial is meant to follow the Python basics and will mostly note the differences for doing the same functionalities. "
   ]
  },
  {
   "cell_type": "markdown",
   "metadata": {},
   "source": [
    "### Installing R and how best to implement it\n",
    "To install, go to [the R home page](https://www.r-project.org/)\n",
    "You then will download and install the latest version in accordance with your operating system. You then should be able to open up your command line interface and enter below to print out your current version. "
   ]
  },
  {
   "cell_type": "markdown",
   "metadata": {},
   "source": [
    "%%bash\n",
    "R --version\n",
    "\n",
    "###This will not work on a windows OS. "
   ]
  },
  {
   "cell_type": "markdown",
   "metadata": {},
   "source": [
    "Congratulations! You have installed R. \n",
    "Now to interface with R, you will have several options. The first is as above- entering through the command line interface.\n",
    "A second option is to utilize [R studio](https://rstudio.com/). This is a very powerful tool that will allow you to generate RMarkdown files as well. This can segway into using other notebooks such as [Jupyter](https://jupyter.org/). \n",
    "Both will allow you to track your code, save it in your local directory, and easily share it through PDFs or HTML outputs. \n",
    "Best of all, you can add annotations and notes easily with markdown so nothing ever gets confused. Jupyter is preferred by myself due to the ease of integrating R, Python, Bash, and other languages. \n",
    "\n",
    "In case of a Jupyter notebook, you can run things via R as below:"
   ]
  },
  {
   "cell_type": "code",
   "execution_count": null,
   "metadata": {},
   "outputs": [],
   "source": [
    "import rpy2.robjects as robjects\n",
    "\n",
    "%load_ext rpy2.ipython"
   ]
  },
  {
   "cell_type": "markdown",
   "metadata": {},
   "source": [
    "Now to run an entire cell as R (often called RMagic running in Jupyter), you start the cell with:\n",
    "\n",
    "%%R\n",
    "\n",
    "Alternatively, if you run just a single line, do %R"
   ]
  },
  {
   "cell_type": "markdown",
   "metadata": {},
   "source": [
    "### My High Horse for a moment\n",
    "A lot of people will skew towards EITHER R or Python. You may run in to some fierce arguments about it even. This is part my personal philosophies, but the old commercial for hard vs soft tacos:\n",
    "\n",
    "![](https://media.giphy.com/media/3o85xIO33l7RlmLR4I/giphy.gif)\n",
    "\n",
    "It just makes sense- why not both?? Use them together, and you can leverage packages from both sides of the Python/R axis."
   ]
  },
  {
   "cell_type": "markdown",
   "metadata": {},
   "source": [
    "## Aspects of R\n",
    "Many of the basic theories are the similar to python, just the execution will be different.\n",
    "One major facet of difference though is in how they handle arrays. Python has a base array index of 0, R has a base array index of 1. Keep that in mind when parsing lists. \n",
    "\n",
    "### R Variables\n",
    "To define an R variable, the same rules apply, but the operator is <-"
   ]
  },
  {
   "cell_type": "code",
   "execution_count": null,
   "metadata": {},
   "outputs": [],
   "source": [
    "%%R\n",
    "goodVar1 <- 'MyVariable'"
   ]
  },
  {
   "cell_type": "markdown",
   "metadata": {},
   "source": [
    "R variables do not include intrinsic string concatenation though. Keep that in mind when handling strings. R is first and foremost a stats world. "
   ]
  },
  {
   "cell_type": "markdown",
   "metadata": {},
   "source": [
    "### R Loops\n",
    "Loops in R are executed similarly in theory, the process is different"
   ]
  },
  {
   "cell_type": "code",
   "execution_count": null,
   "metadata": {},
   "outputs": [],
   "source": [
    "%%R\n",
    "\n",
    "for (i in 0:20){\n",
    "    print(i)\n",
    "}"
   ]
  },
  {
   "cell_type": "markdown",
   "metadata": {},
   "source": [
    "### R If statements"
   ]
  },
  {
   "cell_type": "code",
   "execution_count": null,
   "metadata": {},
   "outputs": [],
   "source": [
    "%%R\n",
    "if (1==1){\n",
    "    print(\"Maths!\")\n",
    "}"
   ]
  },
  {
   "cell_type": "markdown",
   "metadata": {},
   "source": [
    "### R loading libraries\n",
    "This is the equivalent to a Python module and libraries can be loaded with:"
   ]
  },
  {
   "cell_type": "code",
   "execution_count": null,
   "metadata": {},
   "outputs": [],
   "source": [
    "%%R\n",
    "library('dplyr')"
   ]
  },
  {
   "cell_type": "markdown",
   "metadata": {},
   "source": [
    "### Some ways to load specifically for Jupyter\n",
    "Since this is Jupyter specific, there are ways to do it through the rpy2 package that is specific to jupyter. "
   ]
  },
  {
   "cell_type": "code",
   "execution_count": null,
   "metadata": {},
   "outputs": [],
   "source": [
    "from rpy2.robjects.packages import importr\n",
    "base=importr('base')\n",
    "from rpy2.robjects.packages import importr\n",
    "utils = importr('utils')\n",
    "utils.install_packages('ggplot2')"
   ]
  },
  {
   "cell_type": "markdown",
   "metadata": {},
   "source": [
    "## Putting it together\n",
    "So a quick example putting this all together, lets plot out a volcano plot!"
   ]
  },
  {
   "cell_type": "code",
   "execution_count": null,
   "metadata": {},
   "outputs": [],
   "source": [
    "%%R\n",
    "res <- read.csv(\"data.csv\", header=TRUE, row.names=1)#Youll need to add in some data for this to work!\n",
    "\n",
    "# Make a basic volcano plot\n",
    "with(res, plot(log2FoldChange, -log10(pvalue), pch=20, \n",
    "               main=\"Example Volcano\", \n",
    "               xlim=c(-10,10), \n",
    "               ylim=c(0,100),cex=0.5))#change xlim or ylim to frame it out. cex is dot size  \n",
    "\n",
    "# Add colored points: red if padj<0.05, orange of log2FC>1, green if both)\n",
    "with(subset(res, padj<.05 ), points(log2FoldChange, -log10(pvalue), pch=20, col=\"red\",cex=0.5))\n",
    "with(subset(res, abs(log2FoldChange)>1), points(log2FoldChange, -log10(pvalue), pch=20, col=\"orange\",cex=0.5))\n",
    "with(subset(res, padj<.05 & abs(log2FoldChange)>1), points(log2FoldChange, -log10(pvalue), pch=20, col=\"green\",cex=0.5))"
   ]
  },
  {
   "cell_type": "markdown",
   "metadata": {},
   "source": [
    "## For futher digging\n",
    "Use the old technique of Stackoverflow/Google!\n",
    "You can use the theory of what you would use in Python, but use R in your search term and it should find your equivalent."
   ]
  }
 ],
 "metadata": {
  "kernelspec": {
   "display_name": "Python 3",
   "language": "python",
   "name": "python3"
  },
  "language_info": {
   "codemirror_mode": {
    "name": "ipython",
    "version": 3
   },
   "file_extension": ".py",
   "mimetype": "text/x-python",
   "name": "python",
   "nbconvert_exporter": "python",
   "pygments_lexer": "ipython3",
   "version": "3.7.4"
  }
 },
 "nbformat": 4,
 "nbformat_minor": 4
}
