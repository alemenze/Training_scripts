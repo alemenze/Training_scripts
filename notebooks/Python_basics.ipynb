{
 "cells": [
  {
   "cell_type": "markdown",
   "metadata": {},
   "source": [
    "# Python Basics\n",
    "Python is a fabulous coding language that can be used for everything from basic maths, advanced algorithms, data wrangling, full program development, web hosting, or really whatever you can imagine. "
   ]
  },
  {
   "cell_type": "markdown",
   "metadata": {},
   "source": [
    "### Installing python and how best to implement it\n",
    "To install, go to [the Python home page](www.python.org)\n",
    "You then will download and install the latest version in accordance with your operating system. You then should be able to open up your command line interface and enter below to print out your current version. "
   ]
  },
  {
   "cell_type": "markdown",
   "metadata": {},
   "source": [
    "```python\n",
    "%%bash\n",
    "python3 --version\n",
    "#or possibly just\n",
    "#python --version\n",
    "#depending upon your install setup\n",
    "```\n",
    "This wont work on windows OS"
   ]
  },
  {
   "cell_type": "markdown",
   "metadata": {},
   "source": [
    "Congratulations! You have installed Python. \n",
    "Now to interface with Python, you will have several options. The first is as above- entering through the command line interface.\n",
    "A second option is to utilize the IDLE (Integrated Development and Learning Environment). This should be natively installed with your python install. \n",
    "The optimal option would be to install a notebook program that integrates python. To be in line with this notebook, I would recommend [Jupyter](https://jupyter.org/). \n",
    "This will allow you to track your python code, save it in your local directory, and easily share it through PDFs or HTML outputs. \n",
    "Best of all, you can add annotations and notes easily with markdown so nothing ever gets confused. \n",
    "For example:"
   ]
  },
  {
   "cell_type": "code",
   "execution_count": 1,
   "metadata": {},
   "outputs": [
    {
     "data": {
      "text/plain": [
       "4"
      ]
     },
     "execution_count": 1,
     "metadata": {},
     "output_type": "execute_result"
    }
   ],
   "source": [
    "# I want to do maths!\n",
    "2+2\n",
    "#Will output the solution to that. "
   ]
  },
  {
   "cell_type": "code",
   "execution_count": 3,
   "metadata": {},
   "outputs": [
    {
     "data": {
      "text/plain": [
       "8"
      ]
     },
     "execution_count": 3,
     "metadata": {},
     "output_type": "execute_result"
    }
   ],
   "source": [
    "#Multiplication!\n",
    "2*4"
   ]
  },
  {
   "cell_type": "code",
   "execution_count": null,
   "metadata": {},
   "outputs": [],
   "source": [
    "#Division!\n",
    "2/2"
   ]
  },
  {
   "cell_type": "code",
   "execution_count": null,
   "metadata": {},
   "outputs": [],
   "source": [
    "#Mixed maths! It works just like a calculator\n",
    "((2+2)*2)-1"
   ]
  },
  {
   "cell_type": "markdown",
   "metadata": {},
   "source": [
    "For performing different maths, you can use the standard operators. \n",
    "\n",
    "|  Operator | What it does | Example |\n",
    "| --- | --- | --- |\n",
    "| + | Addition | 2+2 |\n",
    "| - | Subtraction | 2-2 | \n",
    "| * | Multiplication | 2 * 2 | \n",
    "| / | Division | 2/2 |\n",
    "| ** | Exponents | 2**2 |"
   ]
  },
  {
   "cell_type": "markdown",
   "metadata": {},
   "source": [
    "## Aspects of Python\n",
    "To utilize python, you need to understand the different pieces of building your code. \n",
    "\n",
    "### Data Types\n",
    "In python, there are three main data types- Integers, floats, and strings\n",
    "Integers are whole numbers, floats are decimal numbers, and strings are text values. \n",
    "\n",
    "Example interger: 1\n",
    "Example float: 1.2567\n",
    "Example string: \"Hello World\"\n",
    "\n",
    "These will natively occur when you define a variable (see below), or you can explicitely call the type. If it is not applicable, you may get an error. Try the line below and see if you can spot the correct and incorrect parts, or understand why it converts certain aspects. \n",
    "\n",
    "#### Print!\n",
    "This is one function you will use constantly. As it sounds, you will literally print the output to the shell. \n",
    "#### Comments!\n",
    "The other aspect is comments. You can create a comment in your code by using the \"#\" symbol. That line or remainder of the line will not run. "
   ]
  },
  {
   "cell_type": "code",
   "execution_count": 5,
   "metadata": {},
   "outputs": [
    {
     "name": "stdout",
     "output_type": "stream",
     "text": [
      "1\n",
      "2.56\n",
      "Hello World\n",
      "2.56\n",
      "2\n",
      "Hello World\n"
     ]
    }
   ],
   "source": [
    "#Here is a comment\n",
    "print(int(1))\n",
    "print(float(2.56))\n",
    "print(str(\"Hello World\"))\n",
    "print(str(2.56))\n",
    "print(int(2.56))\n",
    "print(str('Hello World'))"
   ]
  },
  {
   "cell_type": "markdown",
   "metadata": {},
   "source": [
    "### Variables\n",
    "Variables are the recall mechanism for most coding languages. This allows you to store a value, and then later on in your code call it back. \n",
    "To assign a variable, you can simply use the = operator. \n",
    "\n",
    "For a valid variable name it cannot have hyphens, cannot have spaces, cannot start with a number, and cannot have any special characters. \n",
    "\n",
    "You can then use your normal operators to effect variables, such as adding together numbers or concatenating strings. "
   ]
  },
  {
   "cell_type": "code",
   "execution_count": 6,
   "metadata": {},
   "outputs": [
    {
     "name": "stdout",
     "output_type": "stream",
     "text": [
      "3\n"
     ]
    }
   ],
   "source": [
    "goodVar=1\n",
    "another_goodVar=2\n",
    "\n",
    "print(goodVar+another_goodVar)"
   ]
  },
  {
   "cell_type": "markdown",
   "metadata": {},
   "source": [
    "#### Type of your variable\n",
    "Sometimes when you assign a variable or you are creating one, you mix things up and forget what type it was. To figure it out, use the type() function"
   ]
  },
  {
   "cell_type": "code",
   "execution_count": 7,
   "metadata": {},
   "outputs": [
    {
     "data": {
      "text/plain": [
       "int"
      ]
     },
     "execution_count": 7,
     "metadata": {},
     "output_type": "execute_result"
    }
   ],
   "source": [
    "type(goodVar)\n",
    "#which should be an integer..."
   ]
  },
  {
   "cell_type": "code",
   "execution_count": 8,
   "metadata": {},
   "outputs": [
    {
     "name": "stdout",
     "output_type": "stream",
     "text": [
      "1\n"
     ]
    }
   ],
   "source": [
    "print(goodVar)"
   ]
  },
  {
   "cell_type": "markdown",
   "metadata": {},
   "source": [
    "### Boolean variables and comparison operators\n",
    "Booleans are a binary output of \"True\" or \"False\". This is very important for downstream statements if you are matching variables or determining flow of code. \n",
    "\n",
    "If you are doing comparisons, you will usually use these kinds of comparison operators (and examples to all be True output):\n",
    "\n",
    "| Operator | What it does | Example |\n",
    "| --- | --- | --- |\n",
    "| == | Equal to | 2==2 |\n",
    "| != | Not equal to | 2!=1 |\n",
    "| < | Less than | 2<3 | \n",
    "| <= | Less than or equal to | 2<=2|\n",
    "| > | Greater than | 2>1 |\n",
    "| >= | Greater than or equal to | 2>=2|\n",
    "\n",
    "Equal or not equal can be used for numerical or text based operations, but the greater than or less thans can only be used for numerical values. \n",
    "For any text based comparisons, case matters! You also cannot directly compare a str to an int without converting them both to the same type, or else it will always be False.\n",
    "\n",
    "To add an extra layer, you also have boolean operators. These can be used to combine boolean effects. There are 3:\n",
    "\n",
    "* And\n",
    "* Or\n",
    "* Not\n",
    "\n",
    "For example:"
   ]
  },
  {
   "cell_type": "code",
   "execution_count": 11,
   "metadata": {},
   "outputs": [
    {
     "data": {
      "text/plain": [
       "True"
      ]
     },
     "execution_count": 11,
     "metadata": {},
     "output_type": "execute_result"
    }
   ],
   "source": [
    "2+2==4 and not 1+1==3\n",
    "#should print True since both sides of the And are true"
   ]
  },
  {
   "cell_type": "markdown",
   "metadata": {},
   "source": [
    "### Conditionals\n",
    "Conditionals are for when you are setting as you would expect- conditions to code. This means it must either pass or fail the criteria you lay out to continue. \n",
    "This helps you control the flow of the code. \n",
    "\n",
    "#### if\n",
    "Quite basically, an if statement. This follows the standard logic of \"if this then that\"\n",
    "To intiate an if statement in python, you start with if and end it with a colon, as shown below. "
   ]
  },
  {
   "cell_type": "code",
   "execution_count": 12,
   "metadata": {},
   "outputs": [
    {
     "name": "stdout",
     "output_type": "stream",
     "text": [
      "I can do maths!\n"
     ]
    }
   ],
   "source": [
    "if 2+2==4:\n",
    "    print('I can do maths!')\n",
    "if 2+2==3:\n",
    "    print('I cannot do maths...')\n",
    "#If the statement of \"2+2==4\" is True, then it will print the statement"
   ]
  },
  {
   "cell_type": "markdown",
   "metadata": {},
   "source": [
    "#### else\n",
    "So now what if you want to capture what happens if the if statement is false? Well thats the else statement! \n",
    "This is a catch-all for anything that is False for the if statement. "
   ]
  },
  {
   "cell_type": "code",
   "execution_count": 13,
   "metadata": {},
   "outputs": [
    {
     "name": "stdout",
     "output_type": "stream",
     "text": [
      "Maybe I shouldnt do maths...\n"
     ]
    }
   ],
   "source": [
    "if 2+2==3:\n",
    "    print('I can mutate maths!')\n",
    "else:\n",
    "    print('Maybe I shouldnt do maths...')"
   ]
  },
  {
   "cell_type": "markdown",
   "metadata": {},
   "source": [
    "#### elif\n",
    "Or if you want to stagger conditions. This can be used if you have multiple if statements. So the first if may be false, but you dont want it to go into the catch-all else. You can add an elif to essentially add a step. "
   ]
  },
  {
   "cell_type": "code",
   "execution_count": 14,
   "metadata": {},
   "outputs": [
    {
     "name": "stdout",
     "output_type": "stream",
     "text": [
      "Maybe this is the better output\n"
     ]
    }
   ],
   "source": [
    "if 2+2==3:\n",
    "    print('I can mutate maths!')\n",
    "elif 1+2==3:\n",
    "    print('Maybe this is the better output')\n",
    "else:\n",
    "    print('Well I just cant make anything add up')"
   ]
  },
  {
   "cell_type": "markdown",
   "metadata": {},
   "source": [
    "### Loops\n",
    "Loops will allow you to interatively repeat whatever it is you wish to do. This traditionally comes in two flavors- while and for"
   ]
  },
  {
   "cell_type": "markdown",
   "metadata": {},
   "source": [
    "#### while\n",
    "A while loop will perform whatever its action is as long as the while is True. \n",
    "In the example below, while the statement is true the code will continually print out the value of the variable x. Each time it goes through the loop, it will add one to x. Once the while statement becomes False, it will stop. \n",
    "\n",
    "*continue*\n",
    "If you have to break it, you can continue it\n",
    "\n",
    "*break*\n",
    "Or if you want to, you can break it"
   ]
  },
  {
   "cell_type": "code",
   "execution_count": 16,
   "metadata": {},
   "outputs": [
    {
     "name": "stdout",
     "output_type": "stream",
     "text": [
      "1\n",
      "2\n",
      "3\n",
      "4\n",
      "5\n",
      "6\n",
      "7\n",
      "8\n",
      "9\n",
      "10\n"
     ]
    }
   ],
   "source": [
    "x=1\n",
    "while x<=10:\n",
    "    print(x)\n",
    "    x=x+1"
   ]
  },
  {
   "cell_type": "markdown",
   "metadata": {},
   "source": [
    "#### for\n",
    "This iterates across a preset list or range, and does the same action for each facet. \n",
    "In the example below, we are creating a list out of all the numbers from 0 to x- in this case 0 to 10. \n",
    "For each of those numbers, we want to see if any of them are equal to 5. When we find it, we want it to print out the statement. \n",
    "Otherwise, we want it to just print the number its currently checking. "
   ]
  },
  {
   "cell_type": "code",
   "execution_count": 17,
   "metadata": {},
   "outputs": [
    {
     "name": "stdout",
     "output_type": "stream",
     "text": [
      "0\n",
      "1\n",
      "2\n",
      "3\n",
      "4\n",
      "I found the five\n",
      "6\n",
      "7\n",
      "8\n",
      "9\n"
     ]
    }
   ],
   "source": [
    "x=10\n",
    "for i in range(0,x):\n",
    "    if i==5:\n",
    "        print('I found the five')\n",
    "    else: \n",
    "        print(i)"
   ]
  },
  {
   "cell_type": "markdown",
   "metadata": {},
   "source": [
    "This can be incredible useful when mixed with if statements as above to compare values in lists, find particular items etc."
   ]
  },
  {
   "cell_type": "markdown",
   "metadata": {},
   "source": [
    "### Listing, dictionaries, and tuples\n",
    "So lets get into ways of storing collected information and using them! There are three main types of collections (or arrays). The first and foremost is- a list!"
   ]
  },
  {
   "cell_type": "markdown",
   "metadata": {},
   "source": [
    "#### Lists\n",
    "Lists can be defined a =[]. You can define a list to a variable name, and each item in the list is separated by a comma. \n",
    "\n",
    "Lists are ordered and changeable.\n",
    "\n",
    "A fantastic aspect of lists is that they are mutable- aka you can change them. \n",
    "So lets use the example below of a shopping list. As you start to shop you realize you forgot something and you want to add it. So you append it to the end of the list with the append() function. \n",
    "And your significant other is yelling \"Whats the third item on that list?? This would be getting the item by location. Remember- Python starts at base 0. So if you are looking for the first item its [0], and the third item would be [2]. \n",
    "As you shop, you go in order and you start to remove items from the list. This can be seen as \"slicing\" through the list"
   ]
  },
  {
   "cell_type": "code",
   "execution_count": 18,
   "metadata": {},
   "outputs": [
    {
     "name": "stdout",
     "output_type": "stream",
     "text": [
      "['Milk', 'Eggs', 'Chocolate', 'Coconuts', 'Bananas']\n",
      "Chocolate\n",
      "['Coconuts', 'Bananas']\n"
     ]
    }
   ],
   "source": [
    "shopping_List=['Milk','Eggs','Chocolate','Coconuts']\n",
    "#appending to list\n",
    "shopping_List.append('Bananas')\n",
    "print(shopping_List)\n",
    "\n",
    "#Getting specific item by location\n",
    "print(shopping_List[2])#Gets the third item of the list\n",
    "\n",
    "#slicing through list\n",
    "del shopping_List[:3] #I got the first 3 items of the list already, whats left?\n",
    "print(shopping_List)"
   ]
  },
  {
   "cell_type": "markdown",
   "metadata": {},
   "source": [
    "#### Tuples\n",
    "Tuples are similar to lists, except they are immutable. This means you cannot change the items in it. If we use the example above, we would not be able to add items, or delete items as we shop- but you could look for just the third item in the tuple. \n",
    "\n",
    "Tuples are ordered and unchangeable. \n",
    "\n",
    "Tuples are assigned by =()"
   ]
  },
  {
   "cell_type": "code",
   "execution_count": null,
   "metadata": {},
   "outputs": [],
   "source": [
    "MyTuple=()\n",
    "print(type(MyTuple))"
   ]
  },
  {
   "cell_type": "markdown",
   "metadata": {},
   "source": [
    "#### Dictionaries\n",
    "Dictionaries are another type of array you can use. The benefit to using dictionaries is you can assign keys and values to data pairs. This can be highly useful if you are trying to keep specific things together, like an array of car types where you want to retain the model and color. You also can have nested dictionaries (dictionariception) that are dictionaries within dictionaries. Each dictionary item is split by a comma, and the key/value pairing is split by a colon as shown below. \n",
    "\n",
    "Dictionaries are unordered, changeable, and indexed. \n",
    "\n",
    "Dictionaries are assigned by ={}"
   ]
  },
  {
   "cell_type": "code",
   "execution_count": null,
   "metadata": {},
   "outputs": [],
   "source": [
    "#Regular dictionary\n",
    "my_first_car={\n",
    "    'brand': 'Honda',\n",
    "    'model': 'CrV',\n",
    "    'year': 1998,\n",
    "}\n",
    "#I want to see what the year of my first car was\n",
    "#To access this we need to find the key of 'year'\n",
    "print(my_first_car['year'])\n",
    "\n",
    "#Nested dictionary\n",
    "#So now I have a collection of multiple cars! \n",
    "all_cars={\n",
    "    'first_car':{\n",
    "        'brand':'Honda',\n",
    "        'model':'CrV',\n",
    "        'year':1998\n",
    "    },\n",
    "    'second_car':{\n",
    "        'brand':'Honda',\n",
    "        'model':'CrV',\n",
    "        'year':2011,\n",
    "    },\n",
    "    'third_car':{\n",
    "        'brand':'Jeep',\n",
    "        'model':'Wrangler',\n",
    "        'year':2018,\n",
    "    }\n",
    "}\n",
    "#You can now iterate through all these different cars in this array\n",
    "for car in all_cars:\n",
    "    print(all_cars[car]['model'])#This uses the key which is each car's name, to then look at the model key for each car. "
   ]
  },
  {
   "cell_type": "markdown",
   "metadata": {},
   "source": [
    "### Functions\n",
    "Functions can be defined if you want to re-use a piece of code over and over again. This can be for specifically one script (think of calling a function during a for loop), or for creating your own module (see below) as a part of a larger program. \n",
    "\n",
    "To define a function, you must enter:\n",
    "def function_name():\n",
    "\n",
    "You can additionally add specific requirements to the function for data it would require as input. \n",
    "def function_name(var1, var2):"
   ]
  },
  {
   "cell_type": "code",
   "execution_count": null,
   "metadata": {},
   "outputs": [],
   "source": [
    "#Defining the function\n",
    "def function():\n",
    "    print('Its doing what I want it to!')\n",
    "    #this is what you want the function to do\n",
    "\n",
    "#Now to call the function to do something, you do:\n",
    "function()\n",
    "#if you had arguements, you would do more like function(arg1, arg2...)"
   ]
  },
  {
   "cell_type": "markdown",
   "metadata": {},
   "source": [
    "Now sometimes you want to use a function to bring back some data for future use. In this case, instead of printing an output to the stdout, you would use the \"return\""
   ]
  },
  {
   "cell_type": "code",
   "execution_count": null,
   "metadata": {},
   "outputs": [],
   "source": [
    "def function():\n",
    "    return 'Its bringing it back like its retro style'\n",
    "\n",
    "my_new_var=function()\n",
    "print(my_new_var)"
   ]
  },
  {
   "cell_type": "markdown",
   "metadata": {},
   "source": [
    "### Import modules\n",
    "Importing is one of the most powerful tools in the Python tool chest. This will allow you to either add in code you have already designed (and optimized for re-usability), or if someone has already done whatever task you are looking for, you can import it to not re-create the wheel. \n",
    "\n",
    "Python comes with a collection of native modules, some of the most common are things like sys, os, time, datetime etc that allow you to more easily interface with the system. \n",
    "\n",
    "To actually import though is very easy, as long as the module is installed in the appropriate path (usually your python path), or the current working directory, it can be imported using:\n",
    "import X\n",
    "Alternatively if you only wanted a specific function from it, you could use\n",
    "from X import Y\n",
    "Or if you wanted to change the name of it...\n",
    "from X import Y as Z"
   ]
  },
  {
   "cell_type": "code",
   "execution_count": null,
   "metadata": {},
   "outputs": [],
   "source": [
    "import sys\n",
    "from os import mkdir\n",
    "from os import mkdir as MAKEDIRECTORY"
   ]
  },
  {
   "cell_type": "markdown",
   "metadata": {},
   "source": [
    "### A full program!\n",
    "Now lets put it all together into a script actually does something!"
   ]
  },
  {
   "cell_type": "code",
   "execution_count": null,
   "metadata": {},
   "outputs": [],
   "source": [
    "#we set up out EightBall function to require a number as the input. This can be done through random!\n",
    "import random\n",
    "\n",
    "def EightBall(number):\n",
    "    \n",
    "    if number ==0:\n",
    "        #its possible to get a zero, if it does we dont want that- auto reroll that!\n",
    "        EightBall(random.randrange(8))\n",
    "    \n",
    "    if number == 1:\n",
    "        return \"It is certain\"\n",
    "    \n",
    "    elif number == 2:\n",
    "        return \"Outlook good\"\n",
    "    \n",
    "    elif number == 3:\n",
    "        return \"You may rely on it\"\n",
    "    \n",
    "    elif number == 4:\n",
    "        return \"Ask again later\"\n",
    "    \n",
    "    elif number == 5:\n",
    "        return \"Concentrate and ask again\"\n",
    "    \n",
    "    elif number == 6:\n",
    "        return \"Reply hazy, try again\"\n",
    "    \n",
    "    elif number == 7:\n",
    "        return \"My reply is no\"\n",
    "    \n",
    "    elif number == 8:\n",
    "        return \"My sources say no\"\n",
    "\n",
    "answer=EightBall(random.randrange(8))\n",
    "\n",
    "print('The mighty Magic Eight Ball says...')\n",
    "print(answer)"
   ]
  },
  {
   "cell_type": "markdown",
   "metadata": {},
   "source": [
    "Now if you wanted to re-use the EightBall function, you could save it as its own .py script. \n",
    "You then could start a new python code, maybe a webpage where people type in their questions as an example, \n",
    "and then you could call it anew\n",
    "\n",
    "```python\n",
    "import EightBall\n",
    "if inputquestion==something:\n",
    "    answer=EightBall(random.randrange(8))\n",
    "    print('The might Magic Eight Ball says...')\n",
    "    print(answer)\n",
    "```"
   ]
  },
  {
   "cell_type": "code",
   "execution_count": null,
   "metadata": {},
   "outputs": [],
   "source": []
  }
 ],
 "metadata": {
  "kernelspec": {
   "display_name": "Python 3",
   "language": "python",
   "name": "python3"
  },
  "language_info": {
   "codemirror_mode": {
    "name": "ipython",
    "version": 3
   },
   "file_extension": ".py",
   "mimetype": "text/x-python",
   "name": "python",
   "nbconvert_exporter": "python",
   "pygments_lexer": "ipython3",
   "version": "3.7.4"
  }
 },
 "nbformat": 4,
 "nbformat_minor": 4
}
