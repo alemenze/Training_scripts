{
 "cells": [
  {
   "cell_type": "markdown",
   "metadata": {},
   "source": [
    "# Whole Genome Sequencing Alignment\n",
    "This is to be a follow up notebook to the WGS 101 lecture. \n",
    "First you will install the necessary programs to execute the different commands, but if you already have those installed you can skip that step. "
   ]
  },
  {
   "cell_type": "markdown",
   "metadata": {},
   "source": [
    "## Installs\n",
    "There are several software pieces you will need to install if you wish to use this locally. The first option is to install each one individually, the other option is to utilize a pre-built container that has them all. This second option is the more reproducible in the long run. Even better yet- do this on the cloud so you can use containers and keep the running environment identical and scalable!\n",
    "\n",
    "### BWA\n",
    "BWA is the [Burrows Wheeler aligner](http://bio-bwa.sourceforge.net/). This is one of several options you can employ for your aligner. \n",
    "#### Compile your own\n",
    "This will create a folder called \"bwa\" in your current working directory and build a bwa executible within it. \n",
    "```bash\n",
    "git clone https://github.com/lh3/bwa.git\n",
    "cd bwa; make\n",
    "```\n",
    "This is what I did in this case, and put the folder with bwa executable in the ./bwa/ path. If you install differently or put it elsewhere then change the code below accordingly. \n",
    "\n",
    "or\n",
    "#### Conda install\n",
    "This is probably the easier option- just install with conda. \n",
    "```bash\n",
    "conda install bwa\n",
    "```\n",
    "### FastQC\n",
    "[FastQC](https://www.bioinformatics.babraham.ac.uk/projects/fastqc/) is a standard QC option for checking raw and trimmed fastq files. This will help to evaluate the length and overall quality, as well as detect adapter contamination for downstream trimming. \n",
    "```bash\n",
    "sudo apt-get install fastqc\n",
    "```\n",
    "Or alternatively, download it from the [Babraham bioinformatics](https://www.bioinformatics.babraham.ac.uk/projects/download.html) website and unzip it to your local directory. \n",
    "Or of course- \n",
    "```bash\n",
    "conda install fastqc\n",
    "```\n",
    "\n",
    "### Trimmomatic\n",
    "[Trimmomatic](http://www.usadellab.org/cms/?page=trimmomatic) is one of several standard trimming tools. Another often used tool is CutAdapt. \n",
    "```bash\n",
    "sudo apt-get install trimmomatic\n",
    "```\n",
    "If you install this way, you need to call it as \"TrimmomaticPE\" or \"TrimmomaticSE\" in command line (this is what I did). \n",
    "\n",
    "Or of course- \n",
    "```bash\n",
    "conda install trimmomatic\n",
    "```\n",
    "\n",
    "### MultiQC\n",
    "[MultiQC](https://multiqc.info/) is a great tool for collating output QC reports into one document. \n",
    "```bash\n",
    "pip install multiqc\n",
    "```\n",
    "Or the usual:\n",
    "```bash\n",
    "conda install -c bioconda multiqc\n",
    "```\n",
    "\n",
    "### Samtools\n",
    "[Samtools](http://www.htslib.org/)\n",
    "```bash\n",
    "sudo apt-get install samtools\n",
    "```\n",
    "\n",
    "### Bedtools\n",
    "[Bedtools](https://bedtools.readthedocs.io/en/latest/)\n",
    "```bash\n",
    "sudo apt-get install bedtools\n",
    "```\n",
    "\n",
    "### BCFTools\n",
    "[BCFtools](https://samtools.github.io/bcftools/)\n",
    "```bash\n",
    "sudo apt-get install bcftools\n",
    "```\n",
    "\n",
    "### Some handy tools to download reference genomes\n",
    "```bash\n",
    "pip3 install ncbi-acc-download\n",
    "pip3 install ncbi-genome-download\n",
    "```"
   ]
  },
  {
   "cell_type": "markdown",
   "metadata": {},
   "source": [
    "## Data files\n",
    "These data files are available by the [Open Science Framework](osf.io). \n",
    "Specifically for ease of computation, these will be a subset of *E.coli* reads.\n",
    "In total, this should download a set of read 1 and read 2, as well as the reference *E.coli PA20* from NCBI. \n",
    "There also will be a file for the adapter sequences for trimming later. "
   ]
  },
  {
   "cell_type": "code",
   "execution_count": null,
   "metadata": {},
   "outputs": [],
   "source": [
    "%%bash\n",
    "mkdir data\n",
    "cd data\n",
    "curl -O -J -L https://osf.io/pxk7f/download\n",
    "curl -O -J -L https://osf.io/zax3c/download\n",
    "curl -O -J -L https://osf.io/v24pt/download\n",
    "ncbi-acc-download --format fasta NZ_CP017669.1"
   ]
  },
  {
   "cell_type": "markdown",
   "metadata": {},
   "source": [
    "## Execution\n",
    "So now that all the tools are installed, we are going to walk through the step-by-step execution of this workflow. In most cases you'll be using pretty standard parameters, but try out some of the alternative parameters to tweak the execution. "
   ]
  },
  {
   "cell_type": "markdown",
   "metadata": {},
   "source": [
    "### FASTQC\n",
    "This is the first step for quality checking your samples. FASTQC is published by the Babraham Bioinformatics team and is commonly used as the first line QC tool."
   ]
  },
  {
   "cell_type": "code",
   "execution_count": null,
   "metadata": {},
   "outputs": [],
   "source": [
    "%%bash\n",
    "fastqc data/ecoli_hiseq_R1.fastq.gz\n",
    "fastqc data/ecoli_hiseq_R2.fastq.gz"
   ]
  },
  {
   "cell_type": "markdown",
   "metadata": {},
   "source": [
    "#### FASTQC output\n",
    "You can now go in to your data folder and see an html and zip file output from the FASTQC command. Open up the .html file in your browser and explore the QC\n",
    "One thing you will notice is that some of the reads have adapter contamination, and there is some quality issues. How do we fix that- trimming!"
   ]
  },
  {
   "cell_type": "markdown",
   "metadata": {},
   "source": [
    "### Trimmomatic trimming\n",
    "Trimmomatic is one of several tools used for trimming. Another popular one is cutadapt. \n",
    "But we are using this to remove the low quality bases from our sequences, as well as adapter contaminants. \n",
    "In this particular instance its a pre-trimmed dataset so you should probably get 100% passing filter. "
   ]
  },
  {
   "cell_type": "code",
   "execution_count": null,
   "metadata": {},
   "outputs": [],
   "source": [
    "%%bash\n",
    "TrimmomaticSE data/ecoli_hiseq_R1.fastq.gz data/ecoli_trimmed_R1.fastq.gz \\\n",
    "    ILLUMINACLIP:data/adapters.fasta:2:40:15 \\\n",
    "    LEADING:2 TRAILING:2 \\\n",
    "    SLIDINGWINDOW:4:2 \\\n",
    "    MINLEN:25\n",
    "                                    \n",
    "TrimmomaticSE data/ecoli_hiseq_R2.fastq.gz data/ecoli_trimmed_R2.fastq.gz \\\n",
    "    ILLUMINACLIP:data/adapters.fasta:2:40:15 \\\n",
    "    LEADING:2 TRAILING:2 \\\n",
    "    SLIDINGWINDOW:4:2 \\\n",
    "    MINLEN:25"
   ]
  },
  {
   "cell_type": "markdown",
   "metadata": {},
   "source": [
    "### FASTQ again to see how the quality is after the trimming, and use multiqc to aggregate the QC outputs"
   ]
  },
  {
   "cell_type": "code",
   "execution_count": null,
   "metadata": {},
   "outputs": [],
   "source": [
    "%%bash\n",
    "fastqc data/ecoli_trimmed_R1.fastq.gz\n",
    "fastqc data/ecoli_trimmed_R2.fastq.gz"
   ]
  },
  {
   "cell_type": "code",
   "execution_count": null,
   "metadata": {},
   "outputs": [],
   "source": [
    "%%bash\n",
    "multiqc ."
   ]
  },
  {
   "cell_type": "markdown",
   "metadata": {},
   "source": [
    "### BWA steps\n",
    "#### Build the index for the reference\n",
    "Remember- the first step to BWA is the Burrows-wheeler transform that reformats it to the compressible style. "
   ]
  },
  {
   "cell_type": "code",
   "execution_count": null,
   "metadata": {},
   "outputs": [],
   "source": [
    "%%bash\n",
    "./bwa/bwa index data/NZ_CP017669.1.fa"
   ]
  },
  {
   "cell_type": "markdown",
   "metadata": {},
   "source": [
    "#### Then do the alignment!\n",
    "In this case, the raw files have different seq names within the fastq files, we are doing the alignment with just R1. "
   ]
  },
  {
   "cell_type": "code",
   "execution_count": null,
   "metadata": {},
   "outputs": [],
   "source": [
    "%%bash\n",
    "./bwa/bwa mem data/NZ_CP017669.1.fa data/ecoli_trimmed_R1.fastq.gz  > ecoli.sam"
   ]
  },
  {
   "cell_type": "markdown",
   "metadata": {},
   "source": [
    "### Lets start to look at it with samtools\n",
    "By first switching it from SAM format to BAM to allow indexing.\n",
    "Then sort and index it. This allows you to easily parse to appropriate locations later. "
   ]
  },
  {
   "cell_type": "code",
   "execution_count": null,
   "metadata": {},
   "outputs": [],
   "source": [
    "%%bash\n",
    "samtools view -hSbo ecoli.bam ecoli.sam\n",
    "samtools sort ecoli.bam -o ecoli.sorted.bam\n",
    "samtools index ecoli.sorted.bam"
   ]
  },
  {
   "cell_type": "markdown",
   "metadata": {},
   "source": [
    "The flagstat command counts the number of reads in the alignments, but you can also use just \"samtools stats\" as well to print out additional stats. "
   ]
  },
  {
   "cell_type": "code",
   "execution_count": null,
   "metadata": {},
   "outputs": [],
   "source": [
    "%%bash\n",
    "samtools flagstat ecoli.sorted.bam"
   ]
  },
  {
   "cell_type": "markdown",
   "metadata": {},
   "source": [
    "### Calling variants and converting to human readable\n",
    "This calls points of variation from the reference then converts to a Variant Call Format (VCF) file. "
   ]
  },
  {
   "cell_type": "code",
   "execution_count": null,
   "metadata": {},
   "outputs": [],
   "source": [
    "%%bash\n",
    "samtools mpileup -u -t DP -f data/NZ_CP017669.1.fa ecoli.sorted.bam | \\\n",
    "    bcftools call -mv -Ov > variants.vcf"
   ]
  },
  {
   "cell_type": "markdown",
   "metadata": {},
   "source": [
    "### To align to specific genes\n",
    "The best option would be to download the GFF3 or GTF file on your reference- this should contain the annotations. From there you can use bedtools to intersect the two\n",
    "```bash\n",
    "bedtools intersect -a reference_annotations.gff.gz -b variants.vcf -wa -u\n",
    "```"
   ]
  },
  {
   "cell_type": "code",
   "execution_count": null,
   "metadata": {},
   "outputs": [],
   "source": [
    "%%bash\n",
    "wget -O ecoli_genes.gff \"https://www.ncbi.nlm.nih.gov/sviewer/viewer.cgi?db=nuccore&report=gff3&id=NZ_CP017669.1\"\n",
    "bedtools intersect -a ecoli_genes.gff -b variants.vcf -wa -u > aligned_variants.vcf"
   ]
  }
 ],
 "metadata": {
  "kernelspec": {
   "display_name": "Python 3",
   "language": "python",
   "name": "python3"
  },
  "language_info": {
   "codemirror_mode": {
    "name": "ipython",
    "version": 3
   },
   "file_extension": ".py",
   "mimetype": "text/x-python",
   "name": "python",
   "nbconvert_exporter": "python",
   "pygments_lexer": "ipython3",
   "version": "3.7.4"
  }
 },
 "nbformat": 4,
 "nbformat_minor": 4
}
