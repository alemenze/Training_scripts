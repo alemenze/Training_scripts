{
 "cells": [
  {
   "cell_type": "markdown",
   "metadata": {},
   "source": [
    "# Jupyter notebook for Unique/Common pulls\n",
    "This notebook will walk you through how to pull out the common or unique genes to a specific conditions. \n",
    "*One note- watch out for paths! I used where I have my file stored, adjust to yours as needed.*"
   ]
  },
  {
   "cell_type": "markdown",
   "metadata": {},
   "source": [
    "## Import libraries\n",
    "First step is to import the libraries that are necessary to perform the analysis"
   ]
  },
  {
   "cell_type": "code",
   "execution_count": null,
   "metadata": {},
   "outputs": [],
   "source": [
    "import csv, os"
   ]
  },
  {
   "cell_type": "markdown",
   "metadata": {},
   "source": [
    "## Comparing the samples\n",
    "The first step will be to compare the samples and identify what is common and unique to each sample. "
   ]
  },
  {
   "cell_type": "markdown",
   "metadata": {},
   "source": [
    "### Define functions\n",
    "You define functions for things you would re-use in the script downstream. Alternatively, you could put them in a different python file and import them for use. "
   ]
  },
  {
   "cell_type": "markdown",
   "metadata": {},
   "source": [
    "#### Counter function\n",
    "This function will allow you to parse through a csv file and pull out just the list of genes that are significantly expressed (p<0.05). You can tweak this to include other filter parameters as well, such as log2FC > 1. "
   ]
  },
  {
   "cell_type": "code",
   "execution_count": null,
   "metadata": {},
   "outputs": [],
   "source": [
    "def counter(item):\n",
    "    genes=[] #Empty list to populate later\n",
    "    with open(item) as chart:\n",
    "        reader=csv.DictReader(chart, delimiter=',') #Open the CSV file as a dictionary to parse the columns\n",
    "        for row in reader: #Search through each row to then\n",
    "           if str(row['padj']) != 'NA': #If it has a P value\n",
    "               if float(row['padj']) <0.05: #If its significant. You can also use: if float(row['padj']) < 0.05 and float(row['log2fc']) > 1: as example\n",
    "                   genes.append(row['GeneID']) #Add that significant gene to the list\n",
    "    chart.close()\n",
    "    return genes #Return the list of signficant genes. "
   ]
  },
  {
   "cell_type": "markdown",
   "metadata": {},
   "source": [
    "#### Crossing functions\n",
    "These functions will allow you to cross different gene lists to see what is common between them. "
   ]
  },
  {
   "cell_type": "code",
   "execution_count": null,
   "metadata": {},
   "outputs": [],
   "source": [
    "def crosser2(itemlist):\n",
    "    common2=[]#Empty list to populate later\n",
    "    for gene in itemlist[0]: #For each gene that is in the first list\n",
    "        if gene in itemlist[1]: #If it is in the second list\n",
    "            common2.append(gene) #Add it to our originally empty list as a common gene!\n",
    "    return common2 #Returns the list of common genes"
   ]
  },
  {
   "cell_type": "markdown",
   "metadata": {},
   "source": [
    "#### Unique functions\n",
    "These functions will allow you to cross different gene lists to see what is unique for each one. "
   ]
  },
  {
   "cell_type": "code",
   "execution_count": null,
   "metadata": {},
   "outputs": [],
   "source": [
    "def unique2(itemlist):\n",
    "    unique1=[] #Empty list to populate later\n",
    "    unique2=[] #Empty list to populate later\n",
    "    for gene in itemlist[0]: #For each gene in the first list\n",
    "        if gene not in itemlist[1]: #If it is not also in the second list\n",
    "            unique1.append(gene) #Awesome, its unique to the first list to add it to our originally empty list1\n",
    "    for gene in itemlist[1]: #For each gene in the second list\n",
    "        if gene not in itemlist[0]:#If it is not also in the first list\n",
    "            unique2.append(gene) #Awesome, its unique to the second list to add it to our originally empty list2\n",
    "    return unique1, unique2 #Return both lists of unique genes. "
   ]
  },
  {
   "cell_type": "markdown",
   "metadata": {},
   "source": [
    "##### Homework section!\n",
    "In the box below, write up a function for crosser3 and unique3 to look between three samples at a time. "
   ]
  },
  {
   "cell_type": "code",
   "execution_count": null,
   "metadata": {},
   "outputs": [],
   "source": [
    "def crosser3():\n",
    "    pass\n",
    "def unique3():\n",
    "    pass"
   ]
  },
  {
   "cell_type": "markdown",
   "metadata": {},
   "source": [
    "##### Scalable solution\n",
    "Bit of a spoiler, but this was a crosser designed for both common genes and unique genes in one shot. Requires a bit more finese but is a more scalable solution for later. Just an FYI section"
   ]
  },
  {
   "cell_type": "code",
   "execution_count": null,
   "metadata": {},
   "outputs": [],
   "source": [
    "def crosser(itemlist):\n",
    "    commons=[]\n",
    "    dictionary_of_uniques={}\n",
    "    for i in range(0, len(itemlist)):\n",
    "        dictionary_of_uniques['unique'+str(i)]=[]\n",
    "    \n",
    "    flat_list=[] #List of all genes\n",
    "    for i in range(0,len(itemlist)):\n",
    "        for gene in itemlist[i][0]:\n",
    "            flat_list.append(gene)\n",
    "    \n",
    "    for i in range(0,len(itemlist)):\n",
    "        for gene in itemlist[i][0]:\n",
    "            num=flat_list.count(gene)\n",
    "            if num==1:\n",
    "                dictionary_of_uniques[('unique'+str(i+1))].append(gene)\n",
    "                \n",
    "    for gene in itemlist[0][0]:\n",
    "        num=flat_list.count(gene)\n",
    "        if num==len(itemlist):\n",
    "            common.append(gene)\n",
    "            \n",
    "    return commons, dictionary_of_uniques\n",
    "'''\n",
    "Of note for this, I restructured to be able to keep order of samples. Each item of itemlist has:\n",
    "[sample_counted,'Sample Name']\n",
    "'''"
   ]
  },
  {
   "cell_type": "markdown",
   "metadata": {},
   "source": [
    "### Call your functions\n",
    "This is where you would start calling your functions to do the work. \n",
    "#### Counters\n",
    "First you must generate the list of significant genes for each sample as compared to Controls"
   ]
  },
  {
   "cell_type": "code",
   "execution_count": null,
   "metadata": {},
   "outputs": [],
   "source": [
    "#lI will be Sample I,  l3 will be Sample 3, lI3 will be a combination treatment of I and 3. \n",
    "#The \"l\" standing for list of whichever sample\n",
    "l3= counter('sample3.csv')\n",
    "print(len(l3))\n",
    "#This calls out just the counter funtion to pull the list of significant genes in the sample\n",
    "lI=counter('sampleI.csv')\n",
    "print(len(lI))\n",
    "lI3=counter('comboI3.csv')\n",
    "print(len(lI3))"
   ]
  },
  {
   "cell_type": "markdown",
   "metadata": {},
   "source": [
    "#### Cross the samples\n",
    "Lets start by looking at what is common between the Sample 3 and the I Samples"
   ]
  },
  {
   "cell_type": "code",
   "execution_count": null,
   "metadata": {},
   "outputs": [],
   "source": [
    "common_l3_lI= crosser2([l3,lI])\n",
    "#This calls the crosser2 function established above to compare the two lists \n",
    "#and pull out the gene names that are in both!\n",
    "print(common_l3_lI)\n",
    "print(len(common_l3_lI))"
   ]
  },
  {
   "cell_type": "markdown",
   "metadata": {},
   "source": [
    "##### Homework section!\n",
    "After you've built a crosser3, cross all three samples in the box below"
   ]
  },
  {
   "cell_type": "code",
   "execution_count": null,
   "metadata": {},
   "outputs": [],
   "source": [
    "#common_all=crosser3..."
   ]
  },
  {
   "cell_type": "markdown",
   "metadata": {},
   "source": [
    "#### Get the unique for each sample\n",
    "After finding what is common, lets find what is unique to each one! This biologically is very important, and in this case will help us build the story."
   ]
  },
  {
   "cell_type": "code",
   "execution_count": null,
   "metadata": {},
   "outputs": [],
   "source": [
    "unique_l3_lI=unique2([l3,lI])\n",
    "#This calls the unique2 function established above. \n",
    "#Remember- this function returns 2 different lists. So you can to call them accordingly\n",
    "print(unique_l3_lI[0]) #gets the first item, in this case l3\n",
    "print(len(unique_l3_lI[0]))\n",
    "print(unique_l3_lI[1]) #gets the second item, in this case lI\n",
    "print(len(unique_l3_lI[1]))"
   ]
  },
  {
   "cell_type": "markdown",
   "metadata": {},
   "source": [
    "##### Homework section!\n",
    "After you've built a unique3, compare all three samples in the box below"
   ]
  },
  {
   "cell_type": "code",
   "execution_count": null,
   "metadata": {},
   "outputs": [],
   "source": [
    "#unique_of_all_l3=unique3..."
   ]
  },
  {
   "cell_type": "markdown",
   "metadata": {},
   "source": [
    "## Filtering the samples based on comparisons\n",
    "Now that we know what is common and unique to each sample, lets filter our original files!"
   ]
  },
  {
   "cell_type": "markdown",
   "metadata": {},
   "source": [
    "### Define new functions\n",
    "Since we will be doing something new, we are going to need some new functions. "
   ]
  },
  {
   "cell_type": "markdown",
   "metadata": {},
   "source": [
    "#### Filtering function\n",
    "This function will use an input list of genes and then the file to be filtered. It will then search through the file for the genes, and write a new file contained just those genes. "
   ]
  },
  {
   "cell_type": "code",
   "execution_count": null,
   "metadata": {},
   "outputs": [],
   "source": [
    "def filterer(genelist_for_filtering, original_file, new_file_name):\n",
    "    with open(original_file) as chart: #first we need to open the file\n",
    "        reader=csv.DictReader(chart, delimiter=',')\n",
    "        headers=[]#create an empty list for headers. We need to pull them from the original file first\n",
    "        heads=reader.fieldnames#pulls the header names\n",
    "        for item in heads: \n",
    "            headers.append(item)#adds each one to the headers list. You may ask why I did it this way. \n",
    "            #So if we need to add extra columns while we filter, all we have to do is add another line\n",
    "        #like : headers.append('NEW COLUMN NAME') for later use\n",
    "        \n",
    "        with open(new_file_name, 'w', newline='\\n') as output: #This initializes the new file we will be writing to\n",
    "            wr=csv.writer(output, quoting=csv.QUOTE_ALL, delimiter=',')#and sets up the writer. \n",
    "            wr.writerow(headers)#This writes the headers that we built before\n",
    "            for row in reader:#This is the original file still\n",
    "                writelist=[]#An empty list again... I must really like those\n",
    "                for gene in genelist_for_filtering:# for each gene that is in our filter list\n",
    "                    if row['geneID']==gene:# if it matches with the row in question. AKA its a gene we want\n",
    "                        for field in reader.fieldnames:#This is like doing row['geneID'] etc for each column name\n",
    "                            writelist.append(str(row[field]))#And add it to our writing list\n",
    "                            #If we wanted to add anything else per row we can do it here\n",
    "                            #writelist.append(new_column_data)\n",
    "                            wr.writerow(writelist)#Now we write that row\n",
    "                    else:#If the gene isnt the same as the geneID\n",
    "                        pass#To go back to the loop\n",
    "            output.close()\n",
    "        chart.close()"
   ]
  },
  {
   "cell_type": "markdown",
   "metadata": {},
   "source": [
    "*Note* This wont work perfectly the way you want it to. There is a specific error in it. See if you can find it in the output files and fix it. \n",
    "Hint: It involves writing out your rows. "
   ]
  },
  {
   "cell_type": "markdown",
   "metadata": {},
   "source": [
    "### Call the functions\n",
    "Now lets call the filtering function to create a new list that is just the genes unique to l3"
   ]
  },
  {
   "cell_type": "code",
   "execution_count": null,
   "metadata": {},
   "outputs": [],
   "source": [
    "filterer(unique_l3_lI[0], 'sample3.csv','Unique_3.csv')"
   ]
  },
  {
   "cell_type": "markdown",
   "metadata": {},
   "source": [
    "##### Homework section!\n",
    "Filter the sheets based on what is biologically relevant and important for the next step of analysis."
   ]
  },
  {
   "cell_type": "code",
   "execution_count": null,
   "metadata": {},
   "outputs": [],
   "source": [
    "#filterer()"
   ]
  },
  {
   "cell_type": "markdown",
   "metadata": {},
   "source": [
    "## Bonus section!\n",
    "A huge step in many analyses is visualization. So here is a challenge. \n",
    "Using the lists above, make a Venn diagram. To start:"
   ]
  },
  {
   "cell_type": "code",
   "execution_count": null,
   "metadata": {},
   "outputs": [],
   "source": [
    "import matplotlib.pyplot as plt\n",
    "from matplotlib_venn import venn3\n",
    "\n",
    "##Make a plot!"
   ]
  }
 ],
 "metadata": {
  "celltoolbar": "Raw Cell Format",
  "kernelspec": {
   "display_name": "Python 3",
   "language": "python",
   "name": "python3"
  },
  "language_info": {
   "codemirror_mode": {
    "name": "ipython",
    "version": 3
   },
   "file_extension": ".py",
   "mimetype": "text/x-python",
   "name": "python",
   "nbconvert_exporter": "python",
   "pygments_lexer": "ipython3",
   "version": "3.7.4"
  }
 },
 "nbformat": 4,
 "nbformat_minor": 4
}
