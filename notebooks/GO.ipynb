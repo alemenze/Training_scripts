{
 "cells": [
  {
   "cell_type": "markdown",
   "metadata": {},
   "source": [
    "# Programmatic Gene Ontology Guide\n",
    "This uses GOAtools. You will need to install that first, either through pip or conda. If conda:\n",
    "```bash\n",
    "conda install -c bioconda goatools\n",
    "```\n",
    "\n",
    "Ill admit this isnt perfect, still wrapping around how best to use it. But it will help if you need! "
   ]
  },
  {
   "cell_type": "markdown",
   "metadata": {},
   "source": [
    "## Libraries to import\n",
    "Part one is just importing the different libraries you need and establishing the different databases. These are the ontology, the associations, and then loads them.\n",
    "\n",
    "To get the taxa ID, you can search in the [NCBI taxa browser](https://www.ncbi.nlm.nih.gov/Taxonomy/Browser/wwwtax.cgi?mode=Info&id=83332&lvl=3&lin=f&keep=1&srchmode=1&unlock). I already included MTb H37Rv for starters. "
   ]
  },
  {
   "cell_type": "code",
   "execution_count": null,
   "metadata": {},
   "outputs": [],
   "source": [
    "from __future__ import print_function\n",
    "from goatools.base import download_go_basic_obo\n",
    "from goatools.base import download_ncbi_associations\n",
    "from goatools.obo_parser import GODag\n",
    "from goatools.anno.genetogo_reader import Gene2GoReader\n",
    "\n",
    "obo_fname = download_go_basic_obo()\n",
    "fin_gene2go = download_ncbi_associations()\n",
    "obodag = GODag(\"go-basic.obo\")\n",
    "objanno = Gene2GoReader(fin_gene2go, taxids=[83332])#You'll need to set this to the taxa id for the specific organism being tested. \n",
    "ns2assoc = objanno.get_ns2assc()"
   ]
  },
  {
   "cell_type": "markdown",
   "metadata": {},
   "source": [
    "## Worst. Step. Ever.\n",
    "Now this next step is frankly a royal pain. Took me far too long to figure it out with their documentation a mess to dive through. But youll need to download the protein coding gene names for the associations. To start with:\n",
    "\n",
    "Go to [NCBI Gene](https://www.ncbi.nlm.nih.gov/gene/)\n",
    "```\n",
    "Text in 'Search':\n",
    "genetype protein coding[Properties] AND \"83332\"[Taxonomy ID] AND alive[property] \n",
    "```\n",
    "Download the output as a tab delimited txt file.\n",
    "\n",
    "Then youll have to use the script included in GOAtools to convert that txt file to a python file with the appropriate structure. \n",
    "```bash\n",
    "python scripts/ncbi_gene_results_to_python.py -i gene_result.txt -o gene_result.py\n",
    "```\n",
    "I put the path out of the repo, but youll need to change the path to whatever your actual path is to the python script. Might also need to download another dependency or two. \n",
    "\n",
    "Royal. Pain. In. The. Tookus. "
   ]
  },
  {
   "cell_type": "code",
   "execution_count": null,
   "metadata": {},
   "outputs": [],
   "source": [
    "from gene_result import GENEID2NT as GeneID2nt"
   ]
  },
  {
   "cell_type": "markdown",
   "metadata": {},
   "source": [
    "But now that you have it you can import it appropriately. \n",
    "\n",
    "## Structuring the GOEA test. \n",
    "Now this step is where you actually build the test, and you can re-use it as needed for an organism. The default cutoff for significance is 0.05 (p<0.05) and then the FDR correction. "
   ]
  },
  {
   "cell_type": "code",
   "execution_count": null,
   "metadata": {},
   "outputs": [],
   "source": [
    "from goatools.goea.go_enrichment_ns import GOEnrichmentStudyNS\n",
    "goeaobj = GOEnrichmentStudyNS(\n",
    "        GeneID2nt.keys(), # List of protein-coding genes\n",
    "        ns2assoc, # geneid/GO associations\n",
    "        obodag, # Ontologies\n",
    "        propagate_counts = False,\n",
    "        alpha = 0.05, # default significance cut-off\n",
    "        methods = ['fdr_bh']) # default multipletest correction method"
   ]
  },
  {
   "cell_type": "markdown",
   "metadata": {},
   "source": [
    "## Running the GOEA test\n",
    "Beautiful! You can now use it repeatedly as needed. You just need to run whatever gene list you have now for enrichment. Its just labelled as geneids_list below, but you can change that variable as you need. First it will run it, then it will pull out just the significant ones, and then write it out as a tab delimited file. "
   ]
  },
  {
   "cell_type": "code",
   "execution_count": null,
   "metadata": {},
   "outputs": [],
   "source": [
    "goea_results_all = goeaobj.run_study(geneids_list, prt=None)\n",
    "goea_results_sig = [r for r in goea_results_all if r.p_fdr_bh < 0.05]\n",
    "goeaobj.wr_txt(\"output_GO.txt\", goea_results_sig)"
   ]
  },
  {
   "cell_type": "markdown",
   "metadata": {},
   "source": [
    "For making your lists, it can be something like the common genes between two runs, or all significant genes for a sample etc etc. "
   ]
  }
 ],
 "metadata": {
  "kernelspec": {
   "display_name": "Python 3",
   "language": "python",
   "name": "python3"
  },
  "language_info": {
   "codemirror_mode": {
    "name": "ipython",
    "version": 3
   },
   "file_extension": ".py",
   "mimetype": "text/x-python",
   "name": "python",
   "nbconvert_exporter": "python",
   "pygments_lexer": "ipython3",
   "version": "3.7.4"
  }
 },
 "nbformat": 4,
 "nbformat_minor": 4
}
